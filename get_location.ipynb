{
 "cells": [
  {
   "cell_type": "code",
   "execution_count": 1,
   "metadata": {},
   "outputs": [],
   "source": [
    "from geopy.geocoders import ArcGIS\n",
    "\n",
    "nom = ArcGIS()\n",
    "\n",
    "n = nom.geocode(\"Mwatate, Kenya\")"
   ]
  },
  {
   "cell_type": "code",
   "execution_count": 2,
   "metadata": {},
   "outputs": [
    {
     "name": "stdout",
     "output_type": "stream",
     "text": [
      "-3.504639999999938 38.377440000000036\n",
      "-3.504639999999938 38.377440000000036\n"
     ]
    }
   ],
   "source": [
    "print(n.latitude, n.longitude)\n",
    "\n",
    "latitude = n.latitude\n",
    "longitude = n.longitude\n",
    "\n",
    "print(latitude, longitude)"
   ]
  },
  {
   "cell_type": "code",
   "execution_count": null,
   "metadata": {},
   "outputs": [],
   "source": [
    "# get user's location input\n",
    "location = input(\"Enter your location: \")\n",
    "\n",
    "# get user's location coordinates\n",
    "print(\"Getting your location coordinates...\")\n",
    "user_location = nom.geocode(location)\n",
    "print(\"Done!\")\n",
    "\n",
    "# get user's location latitude and longitude\n",
    "user_latitude = user_location.latitude\n",
    "user_longitude = user_location.longitude\n",
    "\n",
    "city = user_location.address\n",
    "print(user_latitude, user_longitude)\n",
    "print(city)"
   ]
  }
 ],
 "metadata": {
  "kernelspec": {
   "display_name": "base",
   "language": "python",
   "name": "python3"
  },
  "language_info": {
   "codemirror_mode": {
    "name": "ipython",
    "version": 3
   },
   "file_extension": ".py",
   "mimetype": "text/x-python",
   "name": "python",
   "nbconvert_exporter": "python",
   "pygments_lexer": "ipython3",
   "version": "3.9.13"
  },
  "orig_nbformat": 4
 },
 "nbformat": 4,
 "nbformat_minor": 2
}
