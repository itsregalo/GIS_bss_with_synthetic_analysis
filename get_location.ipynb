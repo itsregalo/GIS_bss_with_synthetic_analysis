{
 "cells": [
  {
   "cell_type": "code",
   "execution_count": 3,
   "metadata": {},
   "outputs": [
    {
     "ename": "AttributeError",
     "evalue": "'NoneType' object has no attribute 'address'",
     "output_type": "error",
     "traceback": [
      "\u001b[0;31m---------------------------------------------------------------------------\u001b[0m",
      "\u001b[0;31mAttributeError\u001b[0m                            Traceback (most recent call last)",
      "Cell \u001b[0;32mIn[3], line 6\u001b[0m\n\u001b[1;32m      3\u001b[0m geolocator \u001b[39m=\u001b[39m Nominatim(user_agent\u001b[39m=\u001b[39m\u001b[39m\"\u001b[39m\u001b[39mgis_books\u001b[39m\u001b[39m\"\u001b[39m, timeout\u001b[39m=\u001b[39m\u001b[39m100\u001b[39m)\n\u001b[1;32m      5\u001b[0m location \u001b[39m=\u001b[39m geolocator\u001b[39m.\u001b[39mgeocode(\u001b[39m\"\u001b[39m\u001b[39mSafestay Gardens, Karatina\u001b[39m\u001b[39m\"\u001b[39m)\n\u001b[0;32m----> 6\u001b[0m \u001b[39mprint\u001b[39m(location\u001b[39m.\u001b[39;49maddress)\n",
      "\u001b[0;31mAttributeError\u001b[0m: 'NoneType' object has no attribute 'address'"
     ]
    }
   ],
   "source": [
    "from geopy.geocoders import Nominatim\n",
    "\n",
    "geolocator = Nominatim(user_agent=\"gis_books\", timeout=100)\n",
    "\n",
    "location = geolocator.geocode(\", Karatina\")\n",
    "print(location.address)"
   ]
  },
  {
   "cell_type": "code",
   "execution_count": null,
   "metadata": {},
   "outputs": [
    {
     "name": "stdout",
     "output_type": "stream",
     "text": [
      "-3.504639999999938 38.377440000000036\n",
      "-3.504639999999938 38.377440000000036\n"
     ]
    }
   ],
   "source": [
    "print(n.latitude, n.longitude)\n",
    "\n",
    "latitude = n.latitude\n",
    "longitude = n.longitude\n",
    "\n",
    "print(latitude, longitude)"
   ]
  },
  {
   "cell_type": "code",
   "execution_count": null,
   "metadata": {},
   "outputs": [],
   "source": [
    "# get user's location input\n",
    "location = input(\"Enter your location: \")\n",
    "\n",
    "# get user's location coordinates\n",
    "print(\"Getting your location coordinates...\")\n",
    "user_location = nom.geocode(location)\n",
    "print(\"Done!\")\n",
    "\n",
    "# get user's location latitude and longitude\n",
    "user_latitude = user_location.latitude\n",
    "user_longitude = user_location.longitude\n",
    "\n",
    "city = user_location.address\n",
    "print(user_latitude, user_longitude)\n",
    "print(city)"
   ]
  }
 ],
 "metadata": {
  "kernelspec": {
   "display_name": "base",
   "language": "python",
   "name": "python3"
  },
  "language_info": {
   "codemirror_mode": {
    "name": "ipython",
    "version": 3
   },
   "file_extension": ".py",
   "mimetype": "text/x-python",
   "name": "python",
   "nbconvert_exporter": "python",
   "pygments_lexer": "ipython3",
   "version": "3.11.2"
  },
  "orig_nbformat": 4
 },
 "nbformat": 4,
 "nbformat_minor": 2
}
